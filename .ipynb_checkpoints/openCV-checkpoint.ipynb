{
 "cells": [
  {
   "cell_type": "markdown",
   "metadata": {},
   "source": [
    "# Reading and displaying images with opencv"
   ]
  },
  {
   "cell_type": "code",
   "execution_count": 2,
   "metadata": {},
   "outputs": [],
   "source": [
    "import cv2"
   ]
  },
  {
   "cell_type": "code",
   "execution_count": 11,
   "metadata": {},
   "outputs": [],
   "source": [
    "def main():\n",
    "#     print(cv2.__version__)\n",
    "    imgpath=\"C:\\\\Users\\\\jaskirat\\\\Desktop\\\\ml\\\\misc\\\\misc\\\\4.1.04.tiff\"\n",
    "    img=cv2.imread(imgpath)\n",
    "    cv2.namedWindow('Lena',cv2.WINDOW_AUTOSIZE)\n",
    "    print(type(img))\n",
    "    print(img.dtype)\n",
    "    print(img.shape)\n",
    "    print(img.ndim)\n",
    "    print(img.size)  \n",
    "    \n",
    "    cv2.imshow('Lena',img)\n",
    "    cv2.waitKey(0)\n",
    "    cv2.destroyWindow('Lena')\n",
    "    \n",
    "    "
   ]
  },
  {
   "cell_type": "code",
   "execution_count": 12,
   "metadata": {},
   "outputs": [
    {
     "name": "stdout",
     "output_type": "stream",
     "text": [
      "<class 'numpy.ndarray'>\n",
      "uint8\n",
      "(256, 256, 3)\n",
      "3\n",
      "196608\n"
     ]
    }
   ],
   "source": [
    "if __name__=='__main__':\n",
    "    main()\n",
    "    "
   ]
  },
  {
   "cell_type": "markdown",
   "metadata": {},
   "source": [
    "# Image reading modes and writing an image to disc"
   ]
  },
  {
   "cell_type": "code",
   "execution_count": 10,
   "metadata": {},
   "outputs": [
    {
     "name": "stdout",
     "output_type": "stream",
     "text": [
      "2\n"
     ]
    }
   ],
   "source": [
    "import cv2\n",
    "def main():\n",
    "#     print(cv2.__version__)\n",
    "    imgpath=\"C:\\\\Users\\\\jaskirat\\\\Desktop\\\\ml\\\\misc\\\\misc\\\\4.1.04.tiff\"\n",
    "    img=cv2.imread(imgpath,0) \n",
    "    outpath=\"C:\\\\Users\\\\jaskirat\\\\Desktop\\\\ml\\\\OpenCVwithPython3\\\\output\\\\4.1.04.jpg\"\n",
    "    cv2.imshow('Lena',img)\n",
    "    cv2.imwrite(outpath,img)\n",
    "    \n",
    "    print(img.ndim)\n",
    "    cv2.waitKey(0)\n",
    "    cv2.destroyWindow('Lena')\n",
    "if __name__=='__main__':\n",
    "    main()\n",
    "        \n",
    "    "
   ]
  },
  {
   "cell_type": "markdown",
   "metadata": {},
   "source": [
    "# images , numbers and numpy"
   ]
  },
  {
   "cell_type": "code",
   "execution_count": null,
   "metadata": {},
   "outputs": [],
   "source": []
  }
 ],
 "metadata": {
  "kernelspec": {
   "display_name": "Python 3.6 (tensorflow)",
   "language": "python",
   "name": "tensorflow"
  },
  "language_info": {
   "codemirror_mode": {
    "name": "ipython",
    "version": 3
   },
   "file_extension": ".py",
   "mimetype": "text/x-python",
   "name": "python",
   "nbconvert_exporter": "python",
   "pygments_lexer": "ipython3",
   "version": "3.6.6"
  }
 },
 "nbformat": 4,
 "nbformat_minor": 2
}
